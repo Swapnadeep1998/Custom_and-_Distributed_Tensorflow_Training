{
  "nbformat": 4,
  "nbformat_minor": 0,
  "metadata": {
    "colab": {
      "name": "Customize_Tensorflow_Training.ipynb",
      "provenance": [],
      "authorship_tag": "ABX9TyOOkg2MiKxlTqbOLrqEJ91p",
      "include_colab_link": true
    },
    "kernelspec": {
      "name": "python3",
      "display_name": "Python 3"
    },
    "accelerator": "GPU"
  },
  "cells": [
    {
      "cell_type": "markdown",
      "metadata": {
        "id": "view-in-github",
        "colab_type": "text"
      },
      "source": [
        "<a href=\"https://colab.research.google.com/github/Swapnadeep1998/Custom_and_Distributed_Tensorflow_Training/blob/main/Customize_Tensorflow_Training.ipynb\" target=\"_parent\"><img src=\"https://colab.research.google.com/assets/colab-badge.svg\" alt=\"Open In Colab\"/></a>"
      ]
    },
    {
      "cell_type": "code",
      "metadata": {
        "id": "OpfsPgOM_0Ke"
      },
      "source": [
        "import tensorflow as tf\n",
        "from tensorflow import keras\n",
        "import tensorflow_datasets as tfds\n",
        "from tqdm import tqdm\n",
        "import itertools\n",
        "import numpy as np"
      ],
      "execution_count": null,
      "outputs": []
    },
    {
      "cell_type": "code",
      "metadata": {
        "id": "IzesHpJKlOwf"
      },
      "source": [
        "!pip install -q \"tqdm>=4.36.1\"\n"
      ],
      "execution_count": null,
      "outputs": []
    },
    {
      "cell_type": "markdown",
      "metadata": {
        "id": "sDB4nsPdACw9"
      },
      "source": [
        "## Define Model"
      ]
    },
    {
      "cell_type": "code",
      "metadata": {
        "id": "Tz_pt9uOAQ7R"
      },
      "source": [
        "def base_model():\n",
        "    inputs=keras.Input(shape=(784,),name='clothing')\n",
        "    x=keras.layers.Dense(64, activation='relu', name='dense_1')(inputs)\n",
        "    x=keras.layers.Dense(64, activation='relu', name='dense_2')(x)\n",
        "    outputs=keras.layers.Dense(10, activation='softmax', name='predictions')(x)\n",
        "    model=keras.Model(inputs,outputs)\n",
        "    return model\n",
        "    "
      ],
      "execution_count": null,
      "outputs": []
    },
    {
      "cell_type": "markdown",
      "metadata": {
        "id": "VEPxhXB0B9g0"
      },
      "source": [
        "## Data Pipeline"
      ]
    },
    {
      "cell_type": "code",
      "metadata": {
        "id": "rRjgDw6cB6l2"
      },
      "source": [
        "train_data=tfds.load(\"fashion_mnist\", split=\"train\")\n",
        "test_data=tfds.load(\"fashion_mnist\", split=\"test\")\n",
        "\n",
        "\n",
        "def format_image(data):\n",
        "    image=data[\"image\"]\n",
        "    image=tf.reshape(image,[-1])\n",
        "    image=tf.cast(image,'float32')\n",
        "    image=image/255.0\n",
        "    return image, data[\"label\"]\n",
        "\n",
        "train_data=train_data.map(format_image)\n",
        "test_data=test_data.map(format_image)\n",
        "\n",
        "batch_size=64\n",
        "train=train_data.shuffle(buffer_size=1024).batch(batch_size)\n",
        "test=test_data.batch(batch_size=batch_size)"
      ],
      "execution_count": null,
      "outputs": []
    },
    {
      "cell_type": "code",
      "metadata": {
        "id": "fJ6fOHWqhSkM"
      },
      "source": [
        "class_names=['T-shirt', 'Pants','Pullover shirt','Dress','Coat','Sandal','Shirt','Sneaker','Bag','Ankle Boot']"
      ],
      "execution_count": null,
      "outputs": []
    },
    {
      "cell_type": "markdown",
      "metadata": {
        "id": "lmMqD1yBEvOu"
      },
      "source": [
        "## Defining Loss and Optimizer"
      ]
    },
    {
      "cell_type": "code",
      "metadata": {
        "id": "85cgbByyCX78"
      },
      "source": [
        "loss_object=keras.losses.SparseCategoricalCrossentropy()\n",
        "optimizer=keras.optimizers.Adam()"
      ],
      "execution_count": null,
      "outputs": []
    },
    {
      "cell_type": "markdown",
      "metadata": {
        "id": "cw3EC0CBHcoc"
      },
      "source": [
        "## Define Metrics"
      ]
    },
    {
      "cell_type": "code",
      "metadata": {
        "id": "iC_x-5dzHb0n"
      },
      "source": [
        "train_acc_metric=tf.keras.metrics.SparseCategoricalAccuracy()\n",
        "val_acc_metric=tf.keras.metrics.SparseCategoricalAccuracy()"
      ],
      "execution_count": null,
      "outputs": []
    },
    {
      "cell_type": "markdown",
      "metadata": {
        "id": "v_wtxqYGFxP9"
      },
      "source": [
        "## Define Custom Training Loop"
      ]
    },
    {
      "cell_type": "code",
      "metadata": {
        "id": "3uTcSQYuH4Z8"
      },
      "source": [
        "def apply_gradient(optimizer, model, x, y):\n",
        "    with tf.GradientTape() as tape:\n",
        "        logits=model(x)\n",
        "        loss_value=loss_object(y_true=y, y_pred=logits)\n",
        "    gradients=tape.gradient(loss_value, model.trainable_weights)\n",
        "    optimizer.apply_gradients(zip(gradients, model.trainable_weights))\n",
        "    return logits, loss_value"
      ],
      "execution_count": null,
      "outputs": []
    },
    {
      "cell_type": "code",
      "metadata": {
        "id": "HK8RQYw3E3Wa"
      },
      "source": [
        "def train_data_for_one_epoch():\n",
        "    losses=[]\n",
        "    pbar=tqdm(total=len(list(enumerate(train))),position=0,leave=True,bar_format='{bar}{bar}| {n_fmt}/{total_fmt} ')\n",
        "    for step, (x_batch_train, y_batch_train) in enumerate(train):\n",
        "        logits, loss_value=apply_gradient(optimizer, model, x_batch_train, y_batch_train)\n",
        "        losses.append(loss_value)\n",
        "        train_acc_metric(y_batch_train, logits)\n",
        "        pbar.set_description(\"Training loss for step %s : %.4f\" % (int(step), float(loss_value)))\n",
        "        pbar.update()\n",
        "    return losses"
      ],
      "execution_count": null,
      "outputs": []
    },
    {
      "cell_type": "markdown",
      "metadata": {
        "id": "0HgmfULANJ_c"
      },
      "source": [
        "## Define Validation Function"
      ]
    },
    {
      "cell_type": "code",
      "metadata": {
        "id": "m7y0fVukNI0E"
      },
      "source": [
        "def perform_validation():\n",
        "    losses=[]\n",
        "    for x_val,y_val in test:\n",
        "        val_logits=model(x_val)\n",
        "        val_loss = loss_object(y_true=y_val, y_pred=val_logits)\n",
        "        losses.append(val_loss)\n",
        "        val_acc_metric(y_val,val_logits)\n",
        "    return losses\n"
      ],
      "execution_count": null,
      "outputs": []
    },
    {
      "cell_type": "markdown",
      "metadata": {
        "id": "-RvX7HtAddqU"
      },
      "source": [
        "## Model Training"
      ]
    },
    {
      "cell_type": "code",
      "metadata": {
        "colab": {
          "base_uri": "https://localhost:8080/"
        },
        "id": "_D6wXCjDdQ_n",
        "outputId": "0ee5842d-a914-492d-eb91-a2d186825e9c"
      },
      "source": [
        "model=base_model()\n",
        "\n",
        "epochs=10\n",
        "epochs_val_losses, epochs_train_losses=[],[]\n",
        "for epoch in range(epochs):\n",
        "    print('Start of epoch %d' % (epoch,))\n",
        "    losses_train=train_data_for_one_epoch()\n",
        "    train_acc=train_acc_metric.result()\n",
        "\n",
        "    losses_val=perform_validation()\n",
        "    val_acc=val_acc_metric.result()\n",
        "\n",
        "    losses_train_mean=np.mean(losses_train)\n",
        "    losses_val_mean=np.mean(losses_val)\n",
        "    epochs_val_losses.append(losses_val_mean)\n",
        "    epochs_train_losses.append(losses_train_mean)\n",
        "    print(f\"train acc: {train_acc}, val_acc: {val_acc}\")\n",
        "    train_acc_metric.reset_states()\n",
        "    val_acc_metric.reset_states()\n"
      ],
      "execution_count": null,
      "outputs": [
        {
          "output_type": "stream",
          "text": [
            "Start of epoch 0\n"
          ],
          "name": "stdout"
        },
        {
          "output_type": "stream",
          "text": [
            "████████████████████| 938/938 "
          ],
          "name": "stderr"
        },
        {
          "output_type": "stream",
          "text": [
            "train acc: 0.8359827995300293, val_acc: 0.8450999855995178\n",
            "Start of epoch 1\n"
          ],
          "name": "stdout"
        },
        {
          "output_type": "stream",
          "text": [
            "████████████████████| 938/938 \n",
            "█████████▉█████████▉| 937/938 "
          ],
          "name": "stderr"
        },
        {
          "output_type": "stream",
          "text": [
            "train acc: 0.8668000102043152, val_acc: 0.8604999780654907\n",
            "Start of epoch 2\n"
          ],
          "name": "stdout"
        },
        {
          "output_type": "stream",
          "text": [
            "█████████▉█████████▉| 937/938 "
          ],
          "name": "stderr"
        },
        {
          "output_type": "stream",
          "text": [
            "train acc: 0.878166675567627, val_acc: 0.864799976348877\n",
            "Start of epoch 3\n"
          ],
          "name": "stdout"
        },
        {
          "output_type": "stream",
          "text": [
            "████████████████████| 938/938 \n",
            "████████████████████| 938/938 \n"
          ],
          "name": "stderr"
        },
        {
          "output_type": "stream",
          "text": [
            "train acc: 0.8854833245277405, val_acc: 0.8733999729156494\n",
            "Start of epoch 4\n"
          ],
          "name": "stdout"
        },
        {
          "output_type": "stream",
          "text": [
            "█████████▉█████████▉| 937/938 "
          ],
          "name": "stderr"
        },
        {
          "output_type": "stream",
          "text": [
            "train acc: 0.8909500241279602, val_acc: 0.867900013923645\n",
            "Start of epoch 5\n"
          ],
          "name": "stdout"
        },
        {
          "output_type": "stream",
          "text": [
            "████████████████████| 938/938 \n",
            "█████████▉█████████▉| 937/938 "
          ],
          "name": "stderr"
        },
        {
          "output_type": "stream",
          "text": [
            "train acc: 0.8935666680335999, val_acc: 0.8752999901771545\n",
            "Start of epoch 6\n"
          ],
          "name": "stdout"
        },
        {
          "output_type": "stream",
          "text": [
            "████████████████████| 938/938 \n",
            "████████████████████| 938/938 \n"
          ],
          "name": "stderr"
        },
        {
          "output_type": "stream",
          "text": [
            "train acc: 0.8966666460037231, val_acc: 0.8654000163078308\n",
            "Start of epoch 7\n"
          ],
          "name": "stdout"
        },
        {
          "output_type": "stream",
          "text": [
            "█████████▉█████████▉| 937/938 "
          ],
          "name": "stderr"
        },
        {
          "output_type": "stream",
          "text": [
            "train acc: 0.9001166820526123, val_acc: 0.8773999810218811\n",
            "Start of epoch 8\n"
          ],
          "name": "stdout"
        },
        {
          "output_type": "stream",
          "text": [
            "████████████████████| 938/938 \n",
            "███████▉  ███████▉  | 749/938 \n",
            "████████████████████| 938/938 \n",
            "█████████▉█████████▉| 937/938 "
          ],
          "name": "stderr"
        },
        {
          "output_type": "stream",
          "text": [
            "train acc: 0.904116690158844, val_acc: 0.8738999962806702\n",
            "Start of epoch 9\n"
          ],
          "name": "stdout"
        },
        {
          "output_type": "stream",
          "text": [
            "████████████████████| 938/938 \n",
            "█████████▉█████████▉| 937/938 "
          ],
          "name": "stderr"
        },
        {
          "output_type": "stream",
          "text": [
            "train acc: 0.9049166440963745, val_acc: 0.8792999982833862\n"
          ],
          "name": "stdout"
        }
      ]
    },
    {
      "cell_type": "code",
      "metadata": {
        "id": "kgAFmQF1mo89"
      },
      "source": [
        ""
      ],
      "execution_count": null,
      "outputs": []
    }
  ]
}